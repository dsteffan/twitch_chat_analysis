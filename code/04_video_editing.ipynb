{
 "cells": [
  {
   "cell_type": "markdown",
   "metadata": {},
   "source": [
    "<a id = \"top\"></a>\n",
    "\n",
    "# Video Editing\n",
    "---\n",
    "\n",
    "This notebook contains code for generating highlight reels out of an already highlighted data set using the easy-to-use Python library moviepy. \n",
    "\n",
    "These cells have not been run because rendering video is time-consuming and resource-intensive, and the resulting videos will not fit on GitHub anyways.\n",
    "\n",
    "**This Notebook:**\n",
    "\n",
    "- Single Game Highlighting\n",
    "\n",
    "    1. [Z-Score](#zscore)\n",
    "    2. [Markov Probability](#mc)\n",
    "    3. [Topic Modeling - Funny Clips](#funny)\n",
    "    4. [Topic Modeling - Exciting Clips](#exciting)\n",
    "\n",
    "\n",
    "**Other Notebooks:**\n",
    "\n",
    "- [Data Gathering and Formatting](01_data_gathering.ipynb)\n",
    "- [Anomaly Detection](02_anomaly_detection.ipynb)\n",
    "- [Topic Modeling](03_topic_modeling.ipynb)"
   ]
  },
  {
   "cell_type": "markdown",
   "metadata": {},
   "source": [
    "### Importing\n",
    "---"
   ]
  },
  {
   "cell_type": "code",
   "execution_count": 1,
   "metadata": {},
   "outputs": [],
   "source": [
    "# # Moviepy installation requires ez_setup \n",
    "# !pip install ez_setup\n",
    "# !pip install moviepy"
   ]
  },
  {
   "cell_type": "code",
   "execution_count": 2,
   "metadata": {},
   "outputs": [],
   "source": [
    "import pandas as pd\n",
    "from moviepy.editor import VideoFileClip, concatenate_videoclips\n",
    "import highlighter as hl"
   ]
  },
  {
   "cell_type": "markdown",
   "metadata": {},
   "source": [
    "<a id = \"game\"></a>\n",
    "## Single game highlighting\n",
    "---"
   ]
  },
  {
   "cell_type": "code",
   "execution_count": 88,
   "metadata": {
    "scrolled": true
   },
   "outputs": [
    {
     "name": "stdout",
     "output_type": "stream",
     "text": [
      "Game start time in seconds: 8227\n",
      "Game end time in seconds:   10888\n"
     ]
    }
   ],
   "source": [
    "# Find the start and end times of one match,\n",
    "# in seconds, in the context of the .mp4 file.\n",
    "# The match in question...\n",
    "\n",
    "# ...starts at 2:17:08\n",
    "print(f\"Game start time in seconds: {3600 * 2 + 60 * 17 + 7}\")\n",
    "\n",
    "# ...ends at 3:01:28\n",
    "print(f\"Game end time in seconds:   {3600 * 3 + 60 * 1 + 28}\")"
   ]
  },
  {
   "cell_type": "code",
   "execution_count": null,
   "metadata": {},
   "outputs": [],
   "source": [
    "vod = VideoFileClip(\"../assets/video/admiralbulldog_4_30_vod.mp4\").subclip(t_start = 8227,\n",
    "                                                                           t_end = 10888)"
   ]
  },
  {
   "cell_type": "markdown",
   "metadata": {},
   "source": [
    "<a id = \"zscore\"></a>\n",
    "### Z-Score Highlights\n",
    "---"
   ]
  },
  {
   "cell_type": "code",
   "execution_count": null,
   "metadata": {},
   "outputs": [],
   "source": [
    "highlighted = pd.read_csv(\"../data/highlighted/admiralbulldog_4_30_zscore.csv\",\n",
    "                          index_col = \"Unnamed: 0\",\n",
    "                          parse_dates = True)\n",
    "\n",
    "highlighted.head()"
   ]
  },
  {
   "cell_type": "code",
   "execution_count": null,
   "metadata": {},
   "outputs": [],
   "source": [
    "clips = []\n",
    "for start, end in hl.get_highlights_index(highlighted):\n",
    "\n",
    "    clips.append(vod.subclip(start, end))\n",
    "\n",
    "highlight_reel = concatenate_videoclips(clips)\n",
    "highlight_reel.write_videofile(\"../assets/video/admiralbulldog_4_30_zscore.mp4\")"
   ]
  },
  {
   "cell_type": "markdown",
   "metadata": {},
   "source": [
    "<a id = \"mc\"></a>\n",
    "### Markov Chain Highlights\n",
    "---"
   ]
  },
  {
   "cell_type": "code",
   "execution_count": null,
   "metadata": {},
   "outputs": [],
   "source": [
    "highlighted = pd.read_csv(\"../data/highlighted/admiralbulldog_4_30_mc.csv\",\n",
    "                          index_col = \"Unnamed: 0\",\n",
    "                          parse_dates = True)\n",
    "\n",
    "highlighted.head()"
   ]
  },
  {
   "cell_type": "code",
   "execution_count": null,
   "metadata": {},
   "outputs": [],
   "source": [
    "clips = []\n",
    "for start, end in hl.get_highlights_index(highlighted):\n",
    "\n",
    "    clips.append(vod.subclip(start, end))\n",
    "\n",
    "highlight_reel = concatenate_videoclips(clips)\n",
    "highlight_reel.write_videofile(\"../assets/video/admiralbulldog_4_30_mc.mp4\")"
   ]
  },
  {
   "cell_type": "markdown",
   "metadata": {},
   "source": [
    "<a id = \"funny\"></a>\n",
    "### Topic Modeling Highlights - Funny\n",
    "---"
   ]
  },
  {
   "cell_type": "code",
   "execution_count": null,
   "metadata": {},
   "outputs": [],
   "source": [
    "highlighted = pd.read_csv(\"../data/highlighted/admiralbulldog_4_30_lda_funny.csv\",\n",
    "                          index_col = \"Unnamed: 0\",\n",
    "                          parse_dates = True)\n",
    "\n",
    "highlighted.head()"
   ]
  },
  {
   "cell_type": "code",
   "execution_count": null,
   "metadata": {},
   "outputs": [],
   "source": [
    "clips = []\n",
    "for start, end in hl.get_highlights_index(highlighted):\n",
    "\n",
    "    clips.append(vod.subclip(start, end))\n",
    "\n",
    "highlight_reel = concatenate_videoclips(clips)\n",
    "highlight_reel.write_videofile(\"../assets/video/admiralbulldog_4_30_lda_funny.mp4\")"
   ]
  },
  {
   "cell_type": "markdown",
   "metadata": {},
   "source": [
    "<a id = \"exciting\"></a>\n",
    "### Topic Modeling Highlights - Exciting\n",
    "---"
   ]
  },
  {
   "cell_type": "code",
   "execution_count": null,
   "metadata": {},
   "outputs": [],
   "source": [
    "highlighted = pd.read_csv(\"../data/highlighted/admiralbulldog_4_30_lda_exciting.csv\",\n",
    "                          index_col = \"Unnamed: 0\",\n",
    "                          parse_dates = True)\n",
    "\n",
    "highlighted.head()"
   ]
  },
  {
   "cell_type": "code",
   "execution_count": null,
   "metadata": {},
   "outputs": [],
   "source": [
    "clips = []\n",
    "for start, end in hl.get_highlights_index(highlighted):\n",
    "\n",
    "    clips.append(vod.subclip(start, end))\n",
    "\n",
    "highlight_reel = concatenate_videoclips(clips)\n",
    "highlight_reel.write_videofile(\"../assets/video/admiralbulldog_4_30_lda_exciting.mp4\")"
   ]
  },
  {
   "cell_type": "markdown",
   "metadata": {},
   "source": [
    "---\n",
    "[Back to top](#top)"
   ]
  }
 ],
 "metadata": {
  "kernelspec": {
   "display_name": "Python 3",
   "language": "python",
   "name": "python3"
  },
  "language_info": {
   "codemirror_mode": {
    "name": "ipython",
    "version": 3
   },
   "file_extension": ".py",
   "mimetype": "text/x-python",
   "name": "python",
   "nbconvert_exporter": "python",
   "pygments_lexer": "ipython3",
   "version": "3.7.3"
  }
 },
 "nbformat": 4,
 "nbformat_minor": 2
}

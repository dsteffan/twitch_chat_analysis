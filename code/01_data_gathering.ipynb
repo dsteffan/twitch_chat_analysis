{
 "cells": [
  {
   "cell_type": "markdown",
   "metadata": {},
   "source": [
    "<a id = \"top\"></a>\n",
    "\n",
    "# Data Gathering and Formatting\n",
    "---\n",
    "\n",
    "This notebook documents the process by which the chat message data was pulled from a live broadcast on Twitch using Python sockets. The raw messages are written to a .log file along with a timestamp that is sensitive down to the second. The messages are then processed into a pandas dataframe using a regex, and message per second data was calculated based on this dataframe. For a more technical description of how the data was collected and formatted, check out `twitch_chat_scrape.py` and `twitch_chat_format.py` in the repository.\n",
    "\n",
    "After running the scrape, I found some issues with the Python socket object. Namely, the socket can get \"backed up\" and start returning multiple messages on the same timestamp. This is not too much of an issue for the most part, as the clogs will sort themselves out relatively quickly. However, this becomes a much larger issue if the chat is extremely busy, such as the second scrape I attempted. The data that I have is functional but were I to conduct this scrape again, I would just take the chat from the VOD (Video-On-Demand), as all of the video editing was done on the VOD anyways.\n",
    "\n",
    "Actual scraping code has been commented out so that the .log files will not be over written if you decide to run all of this code from the top.\n",
    "\n",
    "**This Notebook:**\n",
    "\n",
    "- [Scraping from AdmiralBulldog](#bulldog)\n",
    "- [Scraping from xQcOW](#xqcow)\n",
    "\n",
    "\n",
    "\n",
    "**Other Notebooks:**\n",
    "\n",
    "- [Anomaly Detection](02_anomaly_detection.ipynb)\n",
    "- [Topic Modeling](03_topic_modeling.ipynb)\n",
    "- [Video Editing](04_video_editing.ipynb)"
   ]
  },
  {
   "cell_type": "markdown",
   "metadata": {},
   "source": [
    "### Importing\n",
    "---"
   ]
  },
  {
   "cell_type": "code",
   "execution_count": 5,
   "metadata": {},
   "outputs": [],
   "source": [
    "import pandas as pd\n",
    "from twitch_chat_scrape import twitch_chat_scrape\n",
    "import twitch_chat_format as tcf"
   ]
  },
  {
   "cell_type": "code",
   "execution_count": 2,
   "metadata": {},
   "outputs": [],
   "source": [
    "# Supply your own oauth token, which can be \n",
    "# generated here: https://twitchapps.com/tmi/ \n",
    "\n",
    "oauth_path = \"../twitch_oauth_token/token.txt\""
   ]
  },
  {
   "cell_type": "markdown",
   "metadata": {},
   "source": [
    "<a id = \"bulldog\"></a>\n",
    "\n",
    "## Scraping from AdmiralBulldog\n",
    "---\n",
    "\n",
    "AdmiralBulldog's stream averages between 4,000 - 5,000 concurrent viewers and an average of just under 3 chat messages per second. This makes his chat ideal for this analysis as it is busy enough to be highly responsive to on-stream stimulus but not too busy to cause errors with the Python socket. "
   ]
  },
  {
   "cell_type": "code",
   "execution_count": 3,
   "metadata": {},
   "outputs": [
    {
     "name": "stdout",
     "output_type": "stream",
     "text": [
      "----------------------------------------\n",
      "Checkpoint number 1 at 24.0 minutes.\n",
      "4374 messages logged!\n",
      "----------------------------------------\n",
      "Checkpoint number 2 at 48.0 minutes.\n",
      "8236 messages logged!\n",
      "----------------------------------------\n",
      "Checkpoint number 3 at 72.02 minutes.\n",
      "12172 messages logged!\n",
      "----------------------------------------\n",
      "Checkpoint number 4 at 96.0 minutes.\n",
      "15803 messages logged!\n",
      "----------------------------------------\n",
      "Checkpoint number 5 at 120.01 minutes.\n",
      "19337 messages logged!\n",
      "----------------------------------------\n",
      "Checkpoint number 6 at 144.0 minutes.\n",
      "23840 messages logged!\n",
      "----------------------------------------\n",
      "Checkpoint number 7 at 168.0 minutes.\n",
      "26465 messages logged!\n",
      "----------------------------------------\n",
      "Checkpoint number 8 at 192.03 minutes.\n",
      "28522 messages logged!\n",
      "----------------------------------------\n",
      "Scrape interrupted by user after 194.09 minutes.\n",
      "28635 messages logged!\n",
      "----------------------------------------\n"
     ]
    }
   ],
   "source": [
    "# with open(oauth_path, \"r\", encoding = \"utf-8\") as oauth:\n",
    "#     twitch_chat_scrape(nickname = \"ticklebits\",\n",
    "#                        token = oauth.read(),\n",
    "#                        channel = \"admiralbulldog\",\n",
    "#                        minutes = 240,\n",
    "#                        path = \"../data/chat_admiralbulldog_4_30.log\")"
   ]
  },
  {
   "cell_type": "markdown",
   "metadata": {},
   "source": [
    "> Scrape ended early due to the stream ending. "
   ]
  },
  {
   "cell_type": "code",
   "execution_count": 3,
   "metadata": {},
   "outputs": [],
   "source": [
    "admiralbulldog_4_30 = tcf.twitch_chat_format(\"../data/logs/chat_admiralbulldog_4_30.log\")"
   ]
  },
  {
   "cell_type": "code",
   "execution_count": 4,
   "metadata": {},
   "outputs": [
    {
     "data": {
      "text/plain": [
       "(28844, 3)"
      ]
     },
     "execution_count": 4,
     "metadata": {},
     "output_type": "execute_result"
    }
   ],
   "source": [
    "admiralbulldog_4_30.shape"
   ]
  },
  {
   "cell_type": "code",
   "execution_count": 5,
   "metadata": {},
   "outputs": [
    {
     "data": {
      "text/html": [
       "<div>\n",
       "<style scoped>\n",
       "    .dataframe tbody tr th:only-of-type {\n",
       "        vertical-align: middle;\n",
       "    }\n",
       "\n",
       "    .dataframe tbody tr th {\n",
       "        vertical-align: top;\n",
       "    }\n",
       "\n",
       "    .dataframe thead th {\n",
       "        text-align: right;\n",
       "    }\n",
       "</style>\n",
       "<table border=\"1\" class=\"dataframe\">\n",
       "  <thead>\n",
       "    <tr style=\"text-align: right;\">\n",
       "      <th></th>\n",
       "      <th>username</th>\n",
       "      <th>channel</th>\n",
       "      <th>message</th>\n",
       "    </tr>\n",
       "    <tr>\n",
       "      <th>time</th>\n",
       "      <th></th>\n",
       "      <th></th>\n",
       "      <th></th>\n",
       "    </tr>\n",
       "  </thead>\n",
       "  <tbody>\n",
       "    <tr>\n",
       "      <th>2019-04-30 08:56:59</th>\n",
       "      <td>collectcalled</td>\n",
       "      <td>admiralbulldog</td>\n",
       "      <td>IF HENRIK WAS AN AniMAL</td>\n",
       "    </tr>\n",
       "    <tr>\n",
       "      <th>2019-04-30 08:56:59</th>\n",
       "      <td>laudon</td>\n",
       "      <td>admiralbulldog</td>\n",
       "      <td>gachiHYPER</td>\n",
       "    </tr>\n",
       "    <tr>\n",
       "      <th>2019-04-30 08:57:00</th>\n",
       "      <td>hyper_brah</td>\n",
       "      <td>admiralbulldog</td>\n",
       "      <td>WutFace WutFace WutFace WutFace WutFace WutFac...</td>\n",
       "    </tr>\n",
       "    <tr>\n",
       "      <th>2019-04-30 08:57:00</th>\n",
       "      <td>felianjo</td>\n",
       "      <td>admiralbulldog</td>\n",
       "      <td>I LOVE THEM, JUST LET THEM IN CAGES Pepega Clap</td>\n",
       "    </tr>\n",
       "    <tr>\n",
       "      <th>2019-04-30 08:57:00</th>\n",
       "      <td>nevervvinterr</td>\n",
       "      <td>admiralbulldog</td>\n",
       "      <td>gachiHYPER</td>\n",
       "    </tr>\n",
       "  </tbody>\n",
       "</table>\n",
       "</div>"
      ],
      "text/plain": [
       "                          username         channel  \\\n",
       "time                                                 \n",
       "2019-04-30 08:56:59  collectcalled  admiralbulldog   \n",
       "2019-04-30 08:56:59         laudon  admiralbulldog   \n",
       "2019-04-30 08:57:00     hyper_brah  admiralbulldog   \n",
       "2019-04-30 08:57:00       felianjo  admiralbulldog   \n",
       "2019-04-30 08:57:00  nevervvinterr  admiralbulldog   \n",
       "\n",
       "                                                               message  \n",
       "time                                                                    \n",
       "2019-04-30 08:56:59                            IF HENRIK WAS AN AniMAL  \n",
       "2019-04-30 08:56:59                                         gachiHYPER  \n",
       "2019-04-30 08:57:00  WutFace WutFace WutFace WutFace WutFace WutFac...  \n",
       "2019-04-30 08:57:00    I LOVE THEM, JUST LET THEM IN CAGES Pepega Clap  \n",
       "2019-04-30 08:57:00                                         gachiHYPER  "
      ]
     },
     "execution_count": 5,
     "metadata": {},
     "output_type": "execute_result"
    }
   ],
   "source": [
    "admiralbulldog_4_30.head()"
   ]
  },
  {
   "cell_type": "code",
   "execution_count": 6,
   "metadata": {},
   "outputs": [
    {
     "data": {
      "text/plain": [
       "username    0\n",
       "channel     0\n",
       "message     0\n",
       "dtype: int64"
      ]
     },
     "execution_count": 6,
     "metadata": {},
     "output_type": "execute_result"
    }
   ],
   "source": [
    "admiralbulldog_4_30.isna().sum()"
   ]
  },
  {
   "cell_type": "code",
   "execution_count": 7,
   "metadata": {},
   "outputs": [],
   "source": [
    "# Removing the last few hundred messages because \n",
    "# they occur after the stream ends\n",
    "\n",
    "admiralbulldog_4_30 = admiralbulldog_4_30[:len(admiralbulldog_4_30) - 250]"
   ]
  },
  {
   "cell_type": "code",
   "execution_count": 8,
   "metadata": {},
   "outputs": [],
   "source": [
    "# Removing messages sent by the Auto-moderator, a chat bot,\n",
    "# as well as the bot commands sent to it.\n",
    "\n",
    "admiralbulldog_4_30 = tcf.filter_bot_messages(admiralbulldog_4_30, \n",
    "                                              bot_name = \"admiralbullbot\")"
   ]
  },
  {
   "cell_type": "code",
   "execution_count": 9,
   "metadata": {},
   "outputs": [
    {
     "name": "stdout",
     "output_type": "stream",
     "text": [
      "Processing 188 minutes of chat messages...\n",
      "20 out of 188 minutes of messages processed.\n",
      "40 out of 188 minutes of messages processed.\n",
      "60 out of 188 minutes of messages processed.\n",
      "80 out of 188 minutes of messages processed.\n",
      "100 out of 188 minutes of messages processed.\n",
      "120 out of 188 minutes of messages processed.\n",
      "140 out of 188 minutes of messages processed.\n",
      "160 out of 188 minutes of messages processed.\n",
      "180 out of 188 minutes of messages processed.\n",
      "188 out of 188 minutes of messages processed.\n",
      "...All messages processed.\n"
     ]
    }
   ],
   "source": [
    "# Finding the messages per second for each second\n",
    "\n",
    "admiralbulldog_4_30_mps = tcf.messages_per_second(admiralbulldog_4_30)"
   ]
  },
  {
   "cell_type": "code",
   "execution_count": 10,
   "metadata": {},
   "outputs": [],
   "source": [
    "# One data frame has the messages and timestamps... \n",
    "admiralbulldog_4_30.to_csv(\"../data/formatted/admiralbulldog_4_30.csv\", \n",
    "                           index = True)\n",
    "\n",
    "# ...and the other has the messages per second.\n",
    "admiralbulldog_4_30_mps.to_csv(\"../data/formatted/admiralbulldog_4_30_mps.csv\", \n",
    "                               index = True,\n",
    "                               header = \"mps\")"
   ]
  },
  {
   "cell_type": "markdown",
   "metadata": {},
   "source": [
    "<a id = \"xqcow\"></a>\n",
    "## Scraping from xQcOW\n",
    "---\n",
    "\n",
    "xQcOW's stream is much larger with an average concurrent viewership of over 10,000. These viewers average over 7 messages per second, which is more than double AdmiralBulldog's chat. This data ended up being unused, as issues with the Python sockets are exacerbated by the busier chat."
   ]
  },
  {
   "cell_type": "code",
   "execution_count": 7,
   "metadata": {},
   "outputs": [],
   "source": [
    "# with open(oauth_path, \"r\", encoding = \"utf-8\") as oauth:\n",
    "#     twitch_chat_scrape(nickname = \"ticklebits\",\n",
    "#                        token = oauth.read(),\n",
    "#                        channel = \"xqcow\",\n",
    "#                        minutes = 240,\n",
    "#                        path = \"../data/logs/chat_xqcow_5_03.log\")"
   ]
  },
  {
   "cell_type": "markdown",
   "metadata": {},
   "source": [
    "> Scrape completed with over 100,000 messages logged"
   ]
  },
  {
   "cell_type": "code",
   "execution_count": 13,
   "metadata": {},
   "outputs": [],
   "source": [
    "xqcow_5_03 = tcf.twitch_chat_format(\"../data/logs/chat_xqcow_5_03.log\")"
   ]
  },
  {
   "cell_type": "code",
   "execution_count": 14,
   "metadata": {},
   "outputs": [
    {
     "data": {
      "text/plain": [
       "(107109, 3)"
      ]
     },
     "execution_count": 14,
     "metadata": {},
     "output_type": "execute_result"
    }
   ],
   "source": [
    "xqcow_5_03.shape"
   ]
  },
  {
   "cell_type": "code",
   "execution_count": 15,
   "metadata": {},
   "outputs": [
    {
     "data": {
      "text/html": [
       "<div>\n",
       "<style scoped>\n",
       "    .dataframe tbody tr th:only-of-type {\n",
       "        vertical-align: middle;\n",
       "    }\n",
       "\n",
       "    .dataframe tbody tr th {\n",
       "        vertical-align: top;\n",
       "    }\n",
       "\n",
       "    .dataframe thead th {\n",
       "        text-align: right;\n",
       "    }\n",
       "</style>\n",
       "<table border=\"1\" class=\"dataframe\">\n",
       "  <thead>\n",
       "    <tr style=\"text-align: right;\">\n",
       "      <th></th>\n",
       "      <th>username</th>\n",
       "      <th>channel</th>\n",
       "      <th>message</th>\n",
       "    </tr>\n",
       "    <tr>\n",
       "      <th>time</th>\n",
       "      <th></th>\n",
       "      <th></th>\n",
       "      <th></th>\n",
       "    </tr>\n",
       "  </thead>\n",
       "  <tbody>\n",
       "    <tr>\n",
       "      <th>2019-05-03 08:46:43</th>\n",
       "      <td>mythikow</td>\n",
       "      <td>xqcow</td>\n",
       "      <td>\"LET ME TELL YOU WHAT YOU MEAN\" WeirdChamp \"LE...</td>\n",
       "    </tr>\n",
       "    <tr>\n",
       "      <th>2019-05-03 08:46:43</th>\n",
       "      <td>thisispaule</td>\n",
       "      <td>xqcow</td>\n",
       "      <td>easy troll chat BIG Kappa</td>\n",
       "    </tr>\n",
       "    <tr>\n",
       "      <th>2019-05-03 08:46:43</th>\n",
       "      <td>epho__</td>\n",
       "      <td>xqcow</td>\n",
       "      <td>xqcL</td>\n",
       "    </tr>\n",
       "    <tr>\n",
       "      <th>2019-05-03 08:46:43</th>\n",
       "      <td>end_my_suffering_xd</td>\n",
       "      <td>xqcow</td>\n",
       "      <td>FeelsStrongMan DONO</td>\n",
       "    </tr>\n",
       "    <tr>\n",
       "      <th>2019-05-03 08:46:43</th>\n",
       "      <td>eoin_2</td>\n",
       "      <td>xqcow</td>\n",
       "      <td>THIS PVC DUDE :face_with_tears_of_joy: :OK_han...</td>\n",
       "    </tr>\n",
       "  </tbody>\n",
       "</table>\n",
       "</div>"
      ],
      "text/plain": [
       "                                username channel  \\\n",
       "time                                               \n",
       "2019-05-03 08:46:43             mythikow   xqcow   \n",
       "2019-05-03 08:46:43          thisispaule   xqcow   \n",
       "2019-05-03 08:46:43               epho__   xqcow   \n",
       "2019-05-03 08:46:43  end_my_suffering_xd   xqcow   \n",
       "2019-05-03 08:46:43               eoin_2   xqcow   \n",
       "\n",
       "                                                               message  \n",
       "time                                                                    \n",
       "2019-05-03 08:46:43  \"LET ME TELL YOU WHAT YOU MEAN\" WeirdChamp \"LE...  \n",
       "2019-05-03 08:46:43                          easy troll chat BIG Kappa  \n",
       "2019-05-03 08:46:43                                               xqcL  \n",
       "2019-05-03 08:46:43                                FeelsStrongMan DONO  \n",
       "2019-05-03 08:46:43  THIS PVC DUDE :face_with_tears_of_joy: :OK_han...  "
      ]
     },
     "execution_count": 15,
     "metadata": {},
     "output_type": "execute_result"
    }
   ],
   "source": [
    "xqcow_5_03.head()"
   ]
  },
  {
   "cell_type": "code",
   "execution_count": 16,
   "metadata": {},
   "outputs": [
    {
     "data": {
      "text/plain": [
       "username    0\n",
       "channel     0\n",
       "message     0\n",
       "dtype: int64"
      ]
     },
     "execution_count": 16,
     "metadata": {},
     "output_type": "execute_result"
    }
   ],
   "source": [
    "xqcow_5_03.isna().sum()"
   ]
  },
  {
   "cell_type": "code",
   "execution_count": 17,
   "metadata": {},
   "outputs": [],
   "source": [
    "# Removing messages sent by the Auto-moderator, a chat bot.\n",
    "xqcow_5_03 = tcf.filter_bot_messages(xqcow_5_03, \n",
    "                                      bot_name = \"schnozebot\")\n",
    "\n",
    "# xQcOW's chat is so busy it actually has multiple bots\n",
    "xqcow_5_03 = tcf.filter_bot_messages(xqcow_5_03, \n",
    "                                      bot_name = \"fossabot\")"
   ]
  },
  {
   "cell_type": "code",
   "execution_count": 18,
   "metadata": {},
   "outputs": [
    {
     "name": "stdout",
     "output_type": "stream",
     "text": [
      "Processing 240 minutes of chat messages...\n",
      "20 out of 240 minutes of messages processed.\n",
      "40 out of 240 minutes of messages processed.\n",
      "60 out of 240 minutes of messages processed.\n",
      "80 out of 240 minutes of messages processed.\n",
      "100 out of 240 minutes of messages processed.\n",
      "120 out of 240 minutes of messages processed.\n",
      "140 out of 240 minutes of messages processed.\n",
      "160 out of 240 minutes of messages processed.\n",
      "180 out of 240 minutes of messages processed.\n",
      "200 out of 240 minutes of messages processed.\n",
      "220 out of 240 minutes of messages processed.\n",
      "240 out of 240 minutes of messages processed.\n",
      "...All messages processed.\n"
     ]
    }
   ],
   "source": [
    "xqcow_5_03_mps = tcf.messages_per_second(xqcow_5_03)"
   ]
  },
  {
   "cell_type": "code",
   "execution_count": 19,
   "metadata": {},
   "outputs": [],
   "source": [
    "xqcow_5_03.to_csv(\"../data/formatted/xqcow_5_03.csv\", \n",
    "                  index = True)\n",
    "\n",
    "xqcow_5_03_mps.to_csv(\"../data/formatted/xqcow_5_03_mps.csv\", \n",
    "                      index = True,\n",
    "                      header = \"mps\")"
   ]
  },
  {
   "cell_type": "markdown",
   "metadata": {},
   "source": [
    "---\n",
    "[Back to top](#top)"
   ]
  }
 ],
 "metadata": {
  "kernelspec": {
   "display_name": "Python 3",
   "language": "python",
   "name": "python3"
  },
  "language_info": {
   "codemirror_mode": {
    "name": "ipython",
    "version": 3
   },
   "file_extension": ".py",
   "mimetype": "text/x-python",
   "name": "python",
   "nbconvert_exporter": "python",
   "pygments_lexer": "ipython3",
   "version": "3.7.3"
  }
 },
 "nbformat": 4,
 "nbformat_minor": 2
}

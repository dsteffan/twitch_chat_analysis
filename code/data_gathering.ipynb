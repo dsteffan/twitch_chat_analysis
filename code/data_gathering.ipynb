{
 "cells": [
  {
   "cell_type": "markdown",
   "metadata": {},
   "source": [
    "# Data Gathering and Formatting\n",
    "---"
   ]
  },
  {
   "cell_type": "code",
   "execution_count": 1,
   "metadata": {},
   "outputs": [],
   "source": [
    "import pandas as pd\n",
    "from twitch_chat_scrape import twitch_chat_scrape\n",
    "import twitch_chat_format as tcf"
   ]
  },
  {
   "cell_type": "code",
   "execution_count": 2,
   "metadata": {},
   "outputs": [],
   "source": [
    "oauth_path = \"../twitch_oauth_token/token.txt\""
   ]
  },
  {
   "cell_type": "markdown",
   "metadata": {},
   "source": [
    "## Scraping from AdmiralBulldog\n",
    "---"
   ]
  },
  {
   "cell_type": "code",
   "execution_count": 3,
   "metadata": {},
   "outputs": [
    {
     "name": "stdout",
     "output_type": "stream",
     "text": [
      "----------------------------------------\n",
      "Checkpoint number 1 at 24.0 minutes.\n",
      "4374 messages logged!\n",
      "----------------------------------------\n",
      "Checkpoint number 2 at 48.0 minutes.\n",
      "8236 messages logged!\n",
      "----------------------------------------\n",
      "Checkpoint number 3 at 72.02 minutes.\n",
      "12172 messages logged!\n",
      "----------------------------------------\n",
      "Checkpoint number 4 at 96.0 minutes.\n",
      "15803 messages logged!\n",
      "----------------------------------------\n",
      "Checkpoint number 5 at 120.01 minutes.\n",
      "19337 messages logged!\n",
      "----------------------------------------\n",
      "Checkpoint number 6 at 144.0 minutes.\n",
      "23840 messages logged!\n",
      "----------------------------------------\n",
      "Checkpoint number 7 at 168.0 minutes.\n",
      "26465 messages logged!\n",
      "----------------------------------------\n",
      "Checkpoint number 8 at 192.03 minutes.\n",
      "28522 messages logged!\n",
      "----------------------------------------\n",
      "Scrape interrupted by user after 194.09 minutes.\n",
      "28635 messages logged!\n",
      "----------------------------------------\n"
     ]
    }
   ],
   "source": [
    "with open(oauth_path, \"r\", encoding = \"utf-8\") as oauth:\n",
    "    twitch_chat_scrape(nickname = \"ticklebits\",\n",
    "                       token = oauth.read(),\n",
    "                       channel = \"admiralbulldog\",\n",
    "                       minutes = 240,\n",
    "                       path = \"../data/chat_admiralbulldog_4_30.log\")"
   ]
  },
  {
   "cell_type": "markdown",
   "metadata": {},
   "source": [
    "> Scrape ended early due to the stream ending. "
   ]
  },
  {
   "cell_type": "code",
   "execution_count": 3,
   "metadata": {},
   "outputs": [],
   "source": [
    "admiralbulldog_4_30 = tcf.twitch_chat_format(\"../data/logs/chat_admiralbulldog_4_30.log\")"
   ]
  },
  {
   "cell_type": "code",
   "execution_count": 4,
   "metadata": {},
   "outputs": [
    {
     "data": {
      "text/plain": [
       "(28844, 3)"
      ]
     },
     "execution_count": 4,
     "metadata": {},
     "output_type": "execute_result"
    }
   ],
   "source": [
    "admiralbulldog_4_30.shape"
   ]
  },
  {
   "cell_type": "code",
   "execution_count": 5,
   "metadata": {},
   "outputs": [
    {
     "data": {
      "text/html": [
       "<div>\n",
       "<style scoped>\n",
       "    .dataframe tbody tr th:only-of-type {\n",
       "        vertical-align: middle;\n",
       "    }\n",
       "\n",
       "    .dataframe tbody tr th {\n",
       "        vertical-align: top;\n",
       "    }\n",
       "\n",
       "    .dataframe thead th {\n",
       "        text-align: right;\n",
       "    }\n",
       "</style>\n",
       "<table border=\"1\" class=\"dataframe\">\n",
       "  <thead>\n",
       "    <tr style=\"text-align: right;\">\n",
       "      <th></th>\n",
       "      <th>username</th>\n",
       "      <th>channel</th>\n",
       "      <th>message</th>\n",
       "    </tr>\n",
       "    <tr>\n",
       "      <th>time</th>\n",
       "      <th></th>\n",
       "      <th></th>\n",
       "      <th></th>\n",
       "    </tr>\n",
       "  </thead>\n",
       "  <tbody>\n",
       "    <tr>\n",
       "      <th>2019-04-30 08:56:59</th>\n",
       "      <td>collectcalled</td>\n",
       "      <td>admiralbulldog</td>\n",
       "      <td>IF HENRIK WAS AN AniMAL</td>\n",
       "    </tr>\n",
       "    <tr>\n",
       "      <th>2019-04-30 08:56:59</th>\n",
       "      <td>laudon</td>\n",
       "      <td>admiralbulldog</td>\n",
       "      <td>gachiHYPER</td>\n",
       "    </tr>\n",
       "    <tr>\n",
       "      <th>2019-04-30 08:57:00</th>\n",
       "      <td>hyper_brah</td>\n",
       "      <td>admiralbulldog</td>\n",
       "      <td>WutFace WutFace WutFace WutFace WutFace WutFac...</td>\n",
       "    </tr>\n",
       "    <tr>\n",
       "      <th>2019-04-30 08:57:00</th>\n",
       "      <td>felianjo</td>\n",
       "      <td>admiralbulldog</td>\n",
       "      <td>I LOVE THEM, JUST LET THEM IN CAGES Pepega Clap</td>\n",
       "    </tr>\n",
       "    <tr>\n",
       "      <th>2019-04-30 08:57:00</th>\n",
       "      <td>nevervvinterr</td>\n",
       "      <td>admiralbulldog</td>\n",
       "      <td>gachiHYPER</td>\n",
       "    </tr>\n",
       "  </tbody>\n",
       "</table>\n",
       "</div>"
      ],
      "text/plain": [
       "                          username         channel  \\\n",
       "time                                                 \n",
       "2019-04-30 08:56:59  collectcalled  admiralbulldog   \n",
       "2019-04-30 08:56:59         laudon  admiralbulldog   \n",
       "2019-04-30 08:57:00     hyper_brah  admiralbulldog   \n",
       "2019-04-30 08:57:00       felianjo  admiralbulldog   \n",
       "2019-04-30 08:57:00  nevervvinterr  admiralbulldog   \n",
       "\n",
       "                                                               message  \n",
       "time                                                                    \n",
       "2019-04-30 08:56:59                            IF HENRIK WAS AN AniMAL  \n",
       "2019-04-30 08:56:59                                         gachiHYPER  \n",
       "2019-04-30 08:57:00  WutFace WutFace WutFace WutFace WutFace WutFac...  \n",
       "2019-04-30 08:57:00    I LOVE THEM, JUST LET THEM IN CAGES Pepega Clap  \n",
       "2019-04-30 08:57:00                                         gachiHYPER  "
      ]
     },
     "execution_count": 5,
     "metadata": {},
     "output_type": "execute_result"
    }
   ],
   "source": [
    "admiralbulldog_4_30.head()"
   ]
  },
  {
   "cell_type": "code",
   "execution_count": 6,
   "metadata": {},
   "outputs": [
    {
     "data": {
      "text/plain": [
       "username    0\n",
       "channel     0\n",
       "message     0\n",
       "dtype: int64"
      ]
     },
     "execution_count": 6,
     "metadata": {},
     "output_type": "execute_result"
    }
   ],
   "source": [
    "admiralbulldog_4_30.isna().sum()"
   ]
  },
  {
   "cell_type": "code",
   "execution_count": 7,
   "metadata": {},
   "outputs": [],
   "source": [
    "# Removing the last few hundred messages because \n",
    "# they occur after the stream ends\n",
    "\n",
    "admiralbulldog_4_30 = admiralbulldog_4_30[:len(admiralbulldog_4_30) - 250]"
   ]
  },
  {
   "cell_type": "code",
   "execution_count": 8,
   "metadata": {},
   "outputs": [],
   "source": [
    "# Removing messages sent by the Auto-moderator, a chat bot.\n",
    "\n",
    "admiralbulldog_4_30 = tcf.filter_bot_messages(admiralbulldog_4_30, \n",
    "                                              bot_name = \"admiralbullbot\")"
   ]
  },
  {
   "cell_type": "code",
   "execution_count": 9,
   "metadata": {},
   "outputs": [
    {
     "name": "stdout",
     "output_type": "stream",
     "text": [
      "Processing 188 minutes of chat messages...\n",
      "20 out of 188 minutes of messages processed.\n",
      "40 out of 188 minutes of messages processed.\n",
      "60 out of 188 minutes of messages processed.\n",
      "80 out of 188 minutes of messages processed.\n",
      "100 out of 188 minutes of messages processed.\n",
      "120 out of 188 minutes of messages processed.\n",
      "140 out of 188 minutes of messages processed.\n",
      "160 out of 188 minutes of messages processed.\n",
      "180 out of 188 minutes of messages processed.\n",
      "188 out of 188 minutes of messages processed.\n",
      "...All messages processed.\n"
     ]
    }
   ],
   "source": [
    "admiralbulldog_4_30_mps = tcf.messages_per_second(admiralbulldog_4_30)"
   ]
  },
  {
   "cell_type": "code",
   "execution_count": 10,
   "metadata": {},
   "outputs": [],
   "source": [
    "admiralbulldog_4_30.to_csv(\"../data/formatted/admiralbulldog_4_30.csv\", \n",
    "                           index = True)\n",
    "\n",
    "# admiralbulldog_4_30_exp = pd.DataFrame(admiralbulldog_4_30_mps).\n",
    "admiralbulldog_4_30_mps.to_csv(\"../data/formatted/admiralbulldog_4_30_mps.csv\", \n",
    "                               index = True,\n",
    "                               header = \"mps\")"
   ]
  },
  {
   "cell_type": "markdown",
   "metadata": {},
   "source": [
    "## Scraping from xQcOW\n",
    "---"
   ]
  },
  {
   "cell_type": "code",
   "execution_count": 3,
   "metadata": {},
   "outputs": [
    {
     "name": "stdout",
     "output_type": "stream",
     "text": [
      "----------------------------------------\n",
      "Checkpoint number 1 at 24.01 minutes.\n",
      "9192 messages logged!\n",
      "----------------------------------------\n",
      "Checkpoint number 2 at 48.0 minutes.\n",
      "19066 messages logged!\n",
      "----------------------------------------\n",
      "Checkpoint number 3 at 72.01 minutes.\n",
      "29471 messages logged!\n",
      "----------------------------------------\n",
      "Checkpoint number 4 at 96.0 minutes.\n",
      "40270 messages logged!\n",
      "----------------------------------------\n",
      "Checkpoint number 5 at 120.0 minutes.\n",
      "51912 messages logged!\n",
      "----------------------------------------\n",
      "Checkpoint number 6 at 144.0 minutes.\n",
      "62910 messages logged!\n",
      "----------------------------------------\n",
      "Checkpoint number 7 at 168.0 minutes.\n",
      "72628 messages logged!\n",
      "----------------------------------------\n",
      "Checkpoint number 8 at 192.0 minutes.\n",
      "81878 messages logged!\n",
      "----------------------------------------\n",
      "Checkpoint number 9 at 216.0 minutes.\n",
      "91948 messages logged!\n",
      "----------------------------------------\n",
      "Scrape complete after 240.0 minutes.\n",
      "101158 messages logged!\n",
      "----------------------------------------\n"
     ]
    }
   ],
   "source": [
    "with open(oauth_path, \"r\", encoding = \"utf-8\") as oauth:\n",
    "    twitch_chat_scrape(nickname = \"ticklebits\",\n",
    "                       token = oauth.read(),\n",
    "                       channel = \"xqcow\",\n",
    "                       minutes = 240,\n",
    "                       path = \"../data/logs/chat_xqcow_5_03.log\")"
   ]
  },
  {
   "cell_type": "code",
   "execution_count": 12,
   "metadata": {},
   "outputs": [],
   "source": [
    "xqcow_5_03 = tcf.twitch_chat_format(\"../data/logs/chat_xqcow_5_03.log\")"
   ]
  },
  {
   "cell_type": "code",
   "execution_count": 13,
   "metadata": {},
   "outputs": [
    {
     "data": {
      "text/plain": [
       "(107109, 3)"
      ]
     },
     "execution_count": 13,
     "metadata": {},
     "output_type": "execute_result"
    }
   ],
   "source": [
    "xqcow_5_03.shape"
   ]
  },
  {
   "cell_type": "code",
   "execution_count": 14,
   "metadata": {},
   "outputs": [
    {
     "data": {
      "text/html": [
       "<div>\n",
       "<style scoped>\n",
       "    .dataframe tbody tr th:only-of-type {\n",
       "        vertical-align: middle;\n",
       "    }\n",
       "\n",
       "    .dataframe tbody tr th {\n",
       "        vertical-align: top;\n",
       "    }\n",
       "\n",
       "    .dataframe thead th {\n",
       "        text-align: right;\n",
       "    }\n",
       "</style>\n",
       "<table border=\"1\" class=\"dataframe\">\n",
       "  <thead>\n",
       "    <tr style=\"text-align: right;\">\n",
       "      <th></th>\n",
       "      <th>username</th>\n",
       "      <th>channel</th>\n",
       "      <th>message</th>\n",
       "    </tr>\n",
       "    <tr>\n",
       "      <th>time</th>\n",
       "      <th></th>\n",
       "      <th></th>\n",
       "      <th></th>\n",
       "    </tr>\n",
       "  </thead>\n",
       "  <tbody>\n",
       "    <tr>\n",
       "      <th>2019-05-03 08:46:43</th>\n",
       "      <td>mythikow</td>\n",
       "      <td>xqcow</td>\n",
       "      <td>\"LET ME TELL YOU WHAT YOU MEAN\" WeirdChamp \"LE...</td>\n",
       "    </tr>\n",
       "    <tr>\n",
       "      <th>2019-05-03 08:46:43</th>\n",
       "      <td>thisispaule</td>\n",
       "      <td>xqcow</td>\n",
       "      <td>easy troll chat BIG Kappa</td>\n",
       "    </tr>\n",
       "    <tr>\n",
       "      <th>2019-05-03 08:46:43</th>\n",
       "      <td>epho__</td>\n",
       "      <td>xqcow</td>\n",
       "      <td>xqcL</td>\n",
       "    </tr>\n",
       "    <tr>\n",
       "      <th>2019-05-03 08:46:43</th>\n",
       "      <td>end_my_suffering_xd</td>\n",
       "      <td>xqcow</td>\n",
       "      <td>FeelsStrongMan DONO</td>\n",
       "    </tr>\n",
       "    <tr>\n",
       "      <th>2019-05-03 08:46:43</th>\n",
       "      <td>eoin_2</td>\n",
       "      <td>xqcow</td>\n",
       "      <td>THIS PVC DUDE :face_with_tears_of_joy: :OK_han...</td>\n",
       "    </tr>\n",
       "  </tbody>\n",
       "</table>\n",
       "</div>"
      ],
      "text/plain": [
       "                                username channel  \\\n",
       "time                                               \n",
       "2019-05-03 08:46:43             mythikow   xqcow   \n",
       "2019-05-03 08:46:43          thisispaule   xqcow   \n",
       "2019-05-03 08:46:43               epho__   xqcow   \n",
       "2019-05-03 08:46:43  end_my_suffering_xd   xqcow   \n",
       "2019-05-03 08:46:43               eoin_2   xqcow   \n",
       "\n",
       "                                                               message  \n",
       "time                                                                    \n",
       "2019-05-03 08:46:43  \"LET ME TELL YOU WHAT YOU MEAN\" WeirdChamp \"LE...  \n",
       "2019-05-03 08:46:43                          easy troll chat BIG Kappa  \n",
       "2019-05-03 08:46:43                                               xqcL  \n",
       "2019-05-03 08:46:43                                FeelsStrongMan DONO  \n",
       "2019-05-03 08:46:43  THIS PVC DUDE :face_with_tears_of_joy: :OK_han...  "
      ]
     },
     "execution_count": 14,
     "metadata": {},
     "output_type": "execute_result"
    }
   ],
   "source": [
    "xqcow_5_03.head()"
   ]
  },
  {
   "cell_type": "code",
   "execution_count": 15,
   "metadata": {},
   "outputs": [
    {
     "data": {
      "text/plain": [
       "username    0\n",
       "channel     0\n",
       "message     0\n",
       "dtype: int64"
      ]
     },
     "execution_count": 15,
     "metadata": {},
     "output_type": "execute_result"
    }
   ],
   "source": [
    "xqcow_5_03.isna().sum()"
   ]
  },
  {
   "cell_type": "code",
   "execution_count": 16,
   "metadata": {},
   "outputs": [
    {
     "name": "stdout",
     "output_type": "stream",
     "text": [
      "Processing 240 minutes of chat messages...\n",
      "20 out of 240 minutes of messages processed.\n",
      "40 out of 240 minutes of messages processed.\n",
      "60 out of 240 minutes of messages processed.\n",
      "80 out of 240 minutes of messages processed.\n",
      "100 out of 240 minutes of messages processed.\n",
      "120 out of 240 minutes of messages processed.\n",
      "140 out of 240 minutes of messages processed.\n",
      "160 out of 240 minutes of messages processed.\n",
      "180 out of 240 minutes of messages processed.\n",
      "200 out of 240 minutes of messages processed.\n",
      "220 out of 240 minutes of messages processed.\n",
      "240 out of 240 minutes of messages processed.\n",
      "...All messages processed.\n"
     ]
    }
   ],
   "source": [
    "xqcow_5_03_mps = tcf.messages_per_second(xqcow_5_03)"
   ]
  },
  {
   "cell_type": "code",
   "execution_count": 17,
   "metadata": {},
   "outputs": [],
   "source": [
    "xqcow_5_03.to_csv(\"../data/formatted/xqcow_4_30.csv\", \n",
    "                  index = True)\n",
    "\n",
    "xqcow_5_03_mps.to_csv(\"../data/formatted/xqcow_4_30_mps.csv\", \n",
    "                      index = True,\n",
    "                      header = \"mps\")"
   ]
  },
  {
   "cell_type": "code",
   "execution_count": null,
   "metadata": {},
   "outputs": [],
   "source": []
  }
 ],
 "metadata": {
  "kernelspec": {
   "display_name": "Python 3",
   "language": "python",
   "name": "python3"
  },
  "language_info": {
   "codemirror_mode": {
    "name": "ipython",
    "version": 3
   },
   "file_extension": ".py",
   "mimetype": "text/x-python",
   "name": "python",
   "nbconvert_exporter": "python",
   "pygments_lexer": "ipython3",
   "version": "3.7.3"
  }
 },
 "nbformat": 4,
 "nbformat_minor": 2
}
